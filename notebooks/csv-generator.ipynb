{
 "cells": [
  {
   "cell_type": "code",
   "execution_count": null,
   "id": "286b4a0c",
   "metadata": {},
   "outputs": [],
   "source": [
    "import pandas as pd\n",
    "import numpy as np\n",
    "from datetime import datetime, timedelta\n",
    "import random\n",
    "\n",
    "# Configurações do dataset\n",
    "num_customers = 100\n",
    "days = 30\n",
    "readings_per_day = 24  # leituras horárias\n",
    "anomaly_rate = 0.02\n",
    "\n",
    "# Geração dos dados\n",
    "timestamps = [datetime(2025, 1, 1) + timedelta(hours=i) for i in range(days * readings_per_day)]\n",
    "data = []\n",
    "\n",
    "for customer_id in range(1, num_customers + 1):\n",
    "    for timestamp in timestamps:\n",
    "        # Valores normais\n",
    "        consumption = np.random.normal(1.5, 0.5)  # em kWh\n",
    "        voltage = np.random.normal(220, 5)        # em volts\n",
    "        current = consumption * 1000 / voltage    # corrente estimada (I = P / V)\n",
    "        power_factor = np.random.uniform(0.85, 0.99)\n",
    "        anomaly = 0\n",
    "\n",
    "        # Simular anomalia\n",
    "        if random.random() < anomaly_rate:\n",
    "            anomaly = 1\n",
    "            anomaly_type = random.choice(['low_consumption', 'high_consumption', 'bad_power_factor', 'voltage_spike'])\n",
    "            if anomaly_type == 'low_consumption':\n",
    "                consumption = np.random.uniform(0, 0.2)\n",
    "            elif anomaly_type == 'high_consumption':\n",
    "                consumption = np.random.uniform(5, 10)\n",
    "            elif anomaly_type == 'bad_power_factor':\n",
    "                power_factor = np.random.uniform(0.2, 0.5)\n",
    "            elif anomaly_type == 'voltage_spike':\n",
    "                voltage = np.random.uniform(260, 300)\n",
    "\n",
    "            current = consumption * 1000 / voltage\n",
    "\n",
    "        data.append([customer_id, timestamp, consumption, voltage, current, power_factor, anomaly])\n",
    "\n",
    "# Criar o DataFrame\n",
    "df = pd.DataFrame(data, columns=[\n",
    "    'customer_id', 'timestamp', 'consumption_kwh', 'voltage', 'current', 'power_factor', 'anomaly'\n",
    "])\n",
    "\n",
    "# Salvar como CSV\n",
    "df.to_csv(\"smart_meter_anomaly_dataset.csv\", index=False)\n"
   ]
  }
 ],
 "metadata": {
  "kernelspec": {
   "display_name": "Python 3",
   "language": "python",
   "name": "python3"
  },
  "language_info": {
   "name": "python",
   "version": "3.11.5"
  }
 },
 "nbformat": 4,
 "nbformat_minor": 5
}
